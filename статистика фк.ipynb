{
 "cells": [
  {
   "cell_type": "markdown",
   "metadata": {},
   "source": [
    "## Описание"
   ]
  },
  {
   "cell_type": "markdown",
   "metadata": {},
   "source": [
    "Статистика фигурного катания"
   ]
  },
  {
   "cell_type": "markdown",
   "metadata": {},
   "source": [
    "## Импорты"
   ]
  },
  {
   "cell_type": "code",
   "execution_count": 2,
   "metadata": {},
   "outputs": [
    {
     "name": "stdout",
     "output_type": "stream",
     "text": [
      "Defaulting to user installation because normal site-packages is not writeable\n",
      "Requirement already satisfied: beautifulsoup4 in c:\\users\\пользователь\\appdata\\roaming\\python\\python39\\site-packages (4.13.3)\n",
      "Requirement already satisfied: soupsieve>1.2 in c:\\users\\пользователь\\appdata\\roaming\\python\\python39\\site-packages (from beautifulsoup4) (2.6)\n",
      "Requirement already satisfied: typing-extensions>=4.0.0 in c:\\users\\пользователь\\appdata\\roaming\\python\\python39\\site-packages (from beautifulsoup4) (4.11.0)\n",
      "Note: you may need to restart the kernel to use updated packages.\n"
     ]
    },
    {
     "name": "stderr",
     "output_type": "stream",
     "text": [
      "WARNING: You are using pip version 21.2.3; however, version 25.0.1 is available.\n",
      "You should consider upgrading via the 'c:\\Program Files (x86)\\Microsoft Visual Studio\\Shared\\Python39_64\\python.exe -m pip install --upgrade pip' command.\n"
     ]
    }
   ],
   "source": [
    "pip install beautifulsoup4 "
   ]
  },
  {
   "cell_type": "code",
   "execution_count": 3,
   "metadata": {},
   "outputs": [
    {
     "name": "stdout",
     "output_type": "stream",
     "text": [
      "Defaulting to user installation because normal site-packages is not writeable\n",
      "Requirement already satisfied: lxml in c:\\users\\пользователь\\appdata\\roaming\\python\\python39\\site-packages (5.3.2)\n",
      "Note: you may need to restart the kernel to use updated packages.\n"
     ]
    },
    {
     "name": "stderr",
     "output_type": "stream",
     "text": [
      "WARNING: You are using pip version 21.2.3; however, version 25.0.1 is available.\n",
      "You should consider upgrading via the 'c:\\Program Files (x86)\\Microsoft Visual Studio\\Shared\\Python39_64\\python.exe -m pip install --upgrade pip' command.\n"
     ]
    }
   ],
   "source": [
    "pip install lxml\n"
   ]
  },
  {
   "cell_type": "code",
   "execution_count": 4,
   "metadata": {},
   "outputs": [],
   "source": [
    "import pandas as pd\n",
    "from bs4 import BeautifulSoup\n",
    "import requests\n",
    "import time"
   ]
  },
  {
   "cell_type": "markdown",
   "metadata": {},
   "source": [
    "## Получение данных"
   ]
  },
  {
   "cell_type": "markdown",
   "metadata": {},
   "source": [
    "В качестве источника взят сайт с официальными результатами соревнований по фигруному катанию в новой системе оценивания\n",
    "\n",
    "Общий вид страницы выглядит следующим образом:\n",
    "\n",
    "https://skatingscores.com/2425/wc/sr/women/i/short/usa/alysa_liu/\n",
    "\n",
    "https://skatingscores.com/сезон/чемпионат/возрастная категория/дисциплина/i/программа/страна/участник/\n",
    "\n",
    "Соберем информацию для чемпионатов мира за все года с новой системой оценивания в взрослом женском одиночном катании. Для этого нужно получить список всех имен участниц\n",
    "\n"
   ]
  },
  {
   "cell_type": "code",
   "execution_count": 5,
   "metadata": {},
   "outputs": [
    {
     "name": "stdout",
     "output_type": "stream",
     "text": [
      "200\n"
     ]
    }
   ],
   "source": [
    "# Общая страница с результатами коротной программы сезона 24-25\n",
    "url = 'https://skatingscores.com/2425/wc/sr/women/i/short/'\n",
    "# Начало ссылки для участницы\n",
    "base_link = 'https://skatingscores.com/2425/wc/sr/women/i/short/'\n",
    "# Проверяем доступ \n",
    "page = requests.get(url)\n",
    "print(page.status_code)\n",
    "# Загружаем данные\n",
    "soup = BeautifulSoup(page.text, \"html.parser\")"
   ]
  },
  {
   "cell_type": "code",
   "execution_count": 6,
   "metadata": {},
   "outputs": [
    {
     "name": "stdout",
     "output_type": "stream",
     "text": [
      "https://skatingscores.com/2425/wc/sr/women/i/short//usa/alysa_liu/\n",
      "200\n"
     ]
    }
   ],
   "source": [
    "# Получаем все ссылки\n",
    "for link in soup.find_all('a'):\n",
    "    link_ = link.get('href')\n",
    "    # Фильтруем ссылки участниц от ссылок на судей и прочих возможных по шаблону\n",
    "    if '/re/2425/wc/sr/women/i/short' in link_:\n",
    "        country_girl = link_.split('/')[-3]\n",
    "        girl = link_.split('/')[-2]\n",
    "        # Собираем ссылку\n",
    "        girl_link = base_link+'/'+country_girl+'/'+girl+'/'\n",
    "        print(girl_link)\n",
    "        page_girl = requests.get(girl_link)\n",
    "        print(page_girl.status_code)    \n",
    "        soup_girl = BeautifulSoup(page_girl.text, \"html.parser\")\n",
    "        time.sleep(5)\n",
    "        break\n"
   ]
  },
  {
   "cell_type": "code",
   "execution_count": null,
   "metadata": {},
   "outputs": [],
   "source": [
    "# Получаем все таблицы со страницы\n",
    "tables = soup_girl.find_all('table')"
   ]
  },
  {
   "cell_type": "code",
   "execution_count": null,
   "metadata": {},
   "outputs": [
    {
     "name": "stderr",
     "output_type": "stream",
     "text": [
      "C:\\Users\\пользователь\\AppData\\Local\\Temp\\ipykernel_19968\\1545850799.py:3: FutureWarning: Passing literal html to 'read_html' is deprecated and will be removed in a future version. To read from a literal string, wrap it in a 'StringIO' object.\n",
      "  df_1 = pd.read_html(str(tables[0]))[0].tail(1).rename(columns={1: 'Спортсменка', 2: 'Страна', 3: 'Стартовый номер', 4: 'Дедакшн', 5: 'Итоговый результат'})\n"
     ]
    },
    {
     "data": {
      "text/html": [
       "<div>\n",
       "<style scoped>\n",
       "    .dataframe tbody tr th:only-of-type {\n",
       "        vertical-align: middle;\n",
       "    }\n",
       "\n",
       "    .dataframe tbody tr th {\n",
       "        vertical-align: top;\n",
       "    }\n",
       "\n",
       "    .dataframe thead th {\n",
       "        text-align: right;\n",
       "    }\n",
       "</style>\n",
       "<table border=\"1\" class=\"dataframe\">\n",
       "  <thead>\n",
       "    <tr style=\"text-align: right;\">\n",
       "      <th></th>\n",
       "      <th>0</th>\n",
       "      <th>Спортсменка</th>\n",
       "      <th>Страна</th>\n",
       "      <th>Стартовый номер</th>\n",
       "      <th>Дедакшн</th>\n",
       "      <th>Итоговый результат</th>\n",
       "    </tr>\n",
       "  </thead>\n",
       "  <tbody>\n",
       "    <tr>\n",
       "      <th>1</th>\n",
       "      <td>1</td>\n",
       "      <td>Alysa LIU21</td>\n",
       "      <td>USA</td>\n",
       "      <td>18</td>\n",
       "      <td>0.00</td>\n",
       "      <td>PB 74.58</td>\n",
       "    </tr>\n",
       "  </tbody>\n",
       "</table>\n",
       "</div>"
      ],
      "text/plain": [
       "   0  Спортсменка Страна Стартовый номер Дедакшн Итоговый результат\n",
       "1  1  Alysa LIU21    USA              18    0.00           PB 74.58"
      ]
     },
     "execution_count": 43,
     "metadata": {},
     "output_type": "execute_result"
    }
   ],
   "source": [
    "## Все таблицы надо привести к формату для анализа, оставив только нужные показатели\n",
    "\n",
    "# В итоге должно получится две таблицы - в разрезе общих результатов и подробно по элементам\n",
    "\n",
    "# В первой таблице стартовый номер, дедакшин и тотал\n",
    "df_1 = pd.read_html(str(tables[0]))[0].tail(1).rename(columns={1: 'Спортсменка', 2: 'Страна', 3: 'Стартовый номер', 4: 'Дедакшн', 5: 'Итоговый результат'})\n",
    "df_1\n"
   ]
  },
  {
   "cell_type": "code",
   "execution_count": null,
   "metadata": {},
   "outputs": [
    {
     "name": "stderr",
     "output_type": "stream",
     "text": [
      "C:\\Users\\пользователь\\AppData\\Local\\Temp\\ipykernel_19968\\1241738416.py:2: FutureWarning: Passing literal html to 'read_html' is deprecated and will be removed in a future version. To read from a literal string, wrap it in a 'StringIO' object.\n",
      "  df_2 = pd.read_html(str(tables[1]))[0]\n"
     ]
    },
    {
     "data": {
      "text/html": [
       "<div>\n",
       "<style scoped>\n",
       "    .dataframe tbody tr th:only-of-type {\n",
       "        vertical-align: middle;\n",
       "    }\n",
       "\n",
       "    .dataframe tbody tr th {\n",
       "        vertical-align: top;\n",
       "    }\n",
       "\n",
       "    .dataframe thead th {\n",
       "        text-align: right;\n",
       "    }\n",
       "</style>\n",
       "<table border=\"1\" class=\"dataframe\">\n",
       "  <thead>\n",
       "    <tr style=\"text-align: right;\">\n",
       "      <th></th>\n",
       "      <th>ISR 🇮🇱</th>\n",
       "      <th>SVK 🇸🇰</th>\n",
       "      <th>CZE 🇨🇿</th>\n",
       "      <th>FRA 🇫🇷</th>\n",
       "      <th>NOR 🇳🇴</th>\n",
       "      <th>SUI 🇨🇭</th>\n",
       "      <th>JPN 🇯🇵</th>\n",
       "      <th>ITA 🇮🇹</th>\n",
       "      <th>ROU 🇷🇴</th>\n",
       "    </tr>\n",
       "  </thead>\n",
       "  <tbody>\n",
       "    <tr>\n",
       "      <th>1</th>\n",
       "      <td>77.23</td>\n",
       "      <td>75.71</td>\n",
       "      <td>73.06</td>\n",
       "      <td>72.85</td>\n",
       "      <td>74.68</td>\n",
       "      <td>73.65</td>\n",
       "      <td>73.92</td>\n",
       "      <td>75.45</td>\n",
       "      <td>74.65</td>\n",
       "    </tr>\n",
       "  </tbody>\n",
       "</table>\n",
       "</div>"
      ],
      "text/plain": [
       "   ISR 🇮🇱  SVK 🇸🇰  CZE 🇨🇿  FRA 🇫🇷  NOR 🇳🇴  SUI 🇨🇭  JPN 🇯🇵  ITA 🇮🇹  ROU 🇷🇴\n",
       "1   77.23   75.71   73.06   72.85   74.68   73.65   73.92   75.45   74.65"
      ]
     },
     "execution_count": 42,
     "metadata": {},
     "output_type": "execute_result"
    }
   ],
   "source": [
    "# Во второй TSS судей\n",
    "df_2 = pd.read_html(str(tables[1]))[0]    \n",
    "df_2 = df_2.drop(columns=[i for i  in range(6)]+[15]).rename(columns=df_2.iloc[0]).tail(1)\n",
    "# Убираем лишние цифры\n",
    "df_2  = df_2 .replace(to_replace ='\\d{1}\\s', value = '', regex = True)\n",
    "df_2                     \n"
   ]
  },
  {
   "cell_type": "code",
   "execution_count": 46,
   "metadata": {},
   "outputs": [
    {
     "name": "stderr",
     "output_type": "stream",
     "text": [
      "C:\\Users\\пользователь\\AppData\\Local\\Temp\\ipykernel_19968\\717955009.py:1: FutureWarning: Passing literal html to 'read_html' is deprecated and will be removed in a future version. To read from a literal string, wrap it in a 'StringIO' object.\n",
      "  pd.read_html(str(tables[10]))[0]\n"
     ]
    },
    {
     "data": {
      "text/html": [
       "<div>\n",
       "<style scoped>\n",
       "    .dataframe tbody tr th:only-of-type {\n",
       "        vertical-align: middle;\n",
       "    }\n",
       "\n",
       "    .dataframe tbody tr th {\n",
       "        vertical-align: top;\n",
       "    }\n",
       "\n",
       "    .dataframe thead th {\n",
       "        text-align: right;\n",
       "    }\n",
       "</style>\n",
       "<table border=\"1\" class=\"dataframe\">\n",
       "  <thead>\n",
       "    <tr style=\"text-align: right;\">\n",
       "      <th></th>\n",
       "      <th>0</th>\n",
       "      <th>1</th>\n",
       "      <th>2</th>\n",
       "      <th>3</th>\n",
       "      <th>4</th>\n",
       "      <th>5</th>\n",
       "      <th>6</th>\n",
       "      <th>7</th>\n",
       "      <th>8</th>\n",
       "      <th>9</th>\n",
       "      <th>10</th>\n",
       "      <th>11</th>\n",
       "      <th>12</th>\n",
       "      <th>13</th>\n",
       "      <th>14</th>\n",
       "      <th>15</th>\n",
       "    </tr>\n",
       "  </thead>\n",
       "  <tbody>\n",
       "    <tr>\n",
       "      <th>0</th>\n",
       "      <td>Program Component Score (factored)</td>\n",
       "      <td>Program Component Score (factored)</td>\n",
       "      <td>Program Component Score (factored)</td>\n",
       "      <td>Program Component Score (factored)</td>\n",
       "      <td>Program Component Score (factored)</td>\n",
       "      <td>Program Component Score (factored)</td>\n",
       "      <td>Program Component Score (factored)</td>\n",
       "      <td>Program Component Score (factored)</td>\n",
       "      <td>Program Component Score (factored)</td>\n",
       "      <td>Program Component Score (factored)</td>\n",
       "      <td>Program Component Score (factored)</td>\n",
       "      <td>Program Component Score (factored)</td>\n",
       "      <td>Program Component Score (factored)</td>\n",
       "      <td>Program Component Score (factored)</td>\n",
       "      <td>Program Component Score (factored)</td>\n",
       "      <td>PB 4 33.78</td>\n",
       "    </tr>\n",
       "  </tbody>\n",
       "</table>\n",
       "</div>"
      ],
      "text/plain": [
       "                                   0                                   1   \\\n",
       "0  Program Component Score (factored)  Program Component Score (factored)   \n",
       "\n",
       "                                   2                                   3   \\\n",
       "0  Program Component Score (factored)  Program Component Score (factored)   \n",
       "\n",
       "                                   4                                   5   \\\n",
       "0  Program Component Score (factored)  Program Component Score (factored)   \n",
       "\n",
       "                                   6                                   7   \\\n",
       "0  Program Component Score (factored)  Program Component Score (factored)   \n",
       "\n",
       "                                   8                                   9   \\\n",
       "0  Program Component Score (factored)  Program Component Score (factored)   \n",
       "\n",
       "                                   10                                  11  \\\n",
       "0  Program Component Score (factored)  Program Component Score (factored)   \n",
       "\n",
       "                                   12                                  13  \\\n",
       "0  Program Component Score (factored)  Program Component Score (factored)   \n",
       "\n",
       "                                   14          15  \n",
       "0  Program Component Score (factored)  PB 4 33.78  "
      ]
     },
     "execution_count": 46,
     "metadata": {},
     "output_type": "execute_result"
    }
   ],
   "source": [
    "pd.read_html(str(tables[10]))[0]"
   ]
  },
  {
   "cell_type": "code",
   "execution_count": 58,
   "metadata": {},
   "outputs": [
    {
     "name": "stderr",
     "output_type": "stream",
     "text": [
      "C:\\Users\\пользователь\\AppData\\Local\\Temp\\ipykernel_19968\\8891660.py:1: FutureWarning: Passing literal html to 'read_html' is deprecated and will be removed in a future version. To read from a literal string, wrap it in a 'StringIO' object.\n",
      "  df_3 = pd.read_html(str(tables[3]))[0][[0,1]].T\n"
     ]
    },
    {
     "data": {
      "text/html": [
       "<div>\n",
       "<style scoped>\n",
       "    .dataframe tbody tr th:only-of-type {\n",
       "        vertical-align: middle;\n",
       "    }\n",
       "\n",
       "    .dataframe tbody tr th {\n",
       "        vertical-align: top;\n",
       "    }\n",
       "\n",
       "    .dataframe thead th {\n",
       "        text-align: right;\n",
       "    }\n",
       "</style>\n",
       "<table border=\"1\" class=\"dataframe\">\n",
       "  <thead>\n",
       "    <tr style=\"text-align: right;\">\n",
       "      <th></th>\n",
       "      <th>BVSB 2 32.59</th>\n",
       "      <th>BV</th>\n",
       "      <th>GOE</th>\n",
       "      <th>Jumps</th>\n",
       "      <th>Spins</th>\n",
       "      <th>TES</th>\n",
       "    </tr>\n",
       "  </thead>\n",
       "  <tbody>\n",
       "    <tr>\n",
       "      <th>1</th>\n",
       "      <td>GOESB 1 8.21</td>\n",
       "      <td>SB 2 32.59</td>\n",
       "      <td>SB 1 8.21</td>\n",
       "      <td>1 22.76</td>\n",
       "      <td>1 12.75</td>\n",
       "      <td>SB 1  40.80</td>\n",
       "    </tr>\n",
       "  </tbody>\n",
       "</table>\n",
       "</div>"
      ],
      "text/plain": [
       "   BVSB 2 32.59          BV        GOE    Jumps    Spins          TES\n",
       "1  GOESB 1 8.21  SB 2 32.59  SB 1 8.21  1 22.76  1 12.75  SB 1  40.80"
      ]
     },
     "execution_count": 58,
     "metadata": {},
     "output_type": "execute_result"
    }
   ],
   "source": [
    "df_3 = pd.read_html(str(tables[3]))[0][[0,1]].T\n",
    "df_3 = df_3.rename(columns=df_3.iloc[0]).tail(1)\n",
    "df_3"
   ]
  },
  {
   "cell_type": "code",
   "execution_count": 128,
   "metadata": {},
   "outputs": [
    {
     "name": "stderr",
     "output_type": "stream",
     "text": [
      "C:\\Users\\пользователь\\AppData\\Local\\Temp\\ipykernel_10668\\3962321705.py:1: FutureWarning: Passing literal html to 'read_html' is deprecated and will be removed in a future version. To read from a literal string, wrap it in a 'StringIO' object.\n",
      "  pd.read_html(str(tables[4]))[0]\n"
     ]
    },
    {
     "data": {
      "text/html": [
       "<div>\n",
       "<style scoped>\n",
       "    .dataframe tbody tr th:only-of-type {\n",
       "        vertical-align: middle;\n",
       "    }\n",
       "\n",
       "    .dataframe tbody tr th {\n",
       "        vertical-align: top;\n",
       "    }\n",
       "\n",
       "    .dataframe thead th {\n",
       "        text-align: right;\n",
       "    }\n",
       "</style>\n",
       "<table border=\"1\" class=\"dataframe\">\n",
       "  <thead>\n",
       "    <tr style=\"text-align: right;\">\n",
       "      <th></th>\n",
       "      <th>0</th>\n",
       "      <th>1</th>\n",
       "    </tr>\n",
       "  </thead>\n",
       "  <tbody>\n",
       "    <tr>\n",
       "      <th>0</th>\n",
       "      <td>BV</td>\n",
       "      <td>SB 2 32.59</td>\n",
       "    </tr>\n",
       "  </tbody>\n",
       "</table>\n",
       "</div>"
      ],
      "text/plain": [
       "    0           1\n",
       "0  BV  SB 2 32.59"
      ]
     },
     "execution_count": 128,
     "metadata": {},
     "output_type": "execute_result"
    }
   ],
   "source": [
    "pd.read_html(str(tables[4]))[0]"
   ]
  },
  {
   "cell_type": "code",
   "execution_count": 129,
   "metadata": {},
   "outputs": [
    {
     "name": "stderr",
     "output_type": "stream",
     "text": [
      "C:\\Users\\пользователь\\AppData\\Local\\Temp\\ipykernel_10668\\3683640326.py:1: FutureWarning: Passing literal html to 'read_html' is deprecated and will be removed in a future version. To read from a literal string, wrap it in a 'StringIO' object.\n",
      "  pd.read_html(str(tables[5]))[0]\n"
     ]
    },
    {
     "data": {
      "text/html": [
       "<div>\n",
       "<style scoped>\n",
       "    .dataframe tbody tr th:only-of-type {\n",
       "        vertical-align: middle;\n",
       "    }\n",
       "\n",
       "    .dataframe tbody tr th {\n",
       "        vertical-align: top;\n",
       "    }\n",
       "\n",
       "    .dataframe thead th {\n",
       "        text-align: right;\n",
       "    }\n",
       "</style>\n",
       "<table border=\"1\" class=\"dataframe\">\n",
       "  <thead>\n",
       "    <tr style=\"text-align: right;\">\n",
       "      <th></th>\n",
       "      <th>0</th>\n",
       "      <th>1</th>\n",
       "    </tr>\n",
       "  </thead>\n",
       "  <tbody>\n",
       "    <tr>\n",
       "      <th>0</th>\n",
       "      <td>GOE</td>\n",
       "      <td>SB 1 8.21</td>\n",
       "    </tr>\n",
       "  </tbody>\n",
       "</table>\n",
       "</div>"
      ],
      "text/plain": [
       "     0          1\n",
       "0  GOE  SB 1 8.21"
      ]
     },
     "execution_count": 129,
     "metadata": {},
     "output_type": "execute_result"
    }
   ],
   "source": [
    "pd.read_html(str(tables[5]))[0]"
   ]
  },
  {
   "cell_type": "code",
   "execution_count": 130,
   "metadata": {},
   "outputs": [
    {
     "name": "stderr",
     "output_type": "stream",
     "text": [
      "C:\\Users\\пользователь\\AppData\\Local\\Temp\\ipykernel_10668\\248377429.py:1: FutureWarning: Passing literal html to 'read_html' is deprecated and will be removed in a future version. To read from a literal string, wrap it in a 'StringIO' object.\n",
      "  pd.read_html(str(tables[6]))[0]\n"
     ]
    },
    {
     "data": {
      "text/html": [
       "<div>\n",
       "<style scoped>\n",
       "    .dataframe tbody tr th:only-of-type {\n",
       "        vertical-align: middle;\n",
       "    }\n",
       "\n",
       "    .dataframe tbody tr th {\n",
       "        vertical-align: top;\n",
       "    }\n",
       "\n",
       "    .dataframe thead th {\n",
       "        text-align: right;\n",
       "    }\n",
       "</style>\n",
       "<table border=\"1\" class=\"dataframe\">\n",
       "  <thead>\n",
       "    <tr style=\"text-align: right;\">\n",
       "      <th></th>\n",
       "      <th>0</th>\n",
       "      <th>1</th>\n",
       "    </tr>\n",
       "  </thead>\n",
       "  <tbody>\n",
       "    <tr>\n",
       "      <th>0</th>\n",
       "      <td>Jumps</td>\n",
       "      <td>1 22.76</td>\n",
       "    </tr>\n",
       "  </tbody>\n",
       "</table>\n",
       "</div>"
      ],
      "text/plain": [
       "       0        1\n",
       "0  Jumps  1 22.76"
      ]
     },
     "execution_count": 130,
     "metadata": {},
     "output_type": "execute_result"
    }
   ],
   "source": [
    "pd.read_html(str(tables[6]))[0]"
   ]
  },
  {
   "cell_type": "code",
   "execution_count": 131,
   "metadata": {},
   "outputs": [
    {
     "name": "stderr",
     "output_type": "stream",
     "text": [
      "C:\\Users\\пользователь\\AppData\\Local\\Temp\\ipykernel_10668\\4217466188.py:1: FutureWarning: Passing literal html to 'read_html' is deprecated and will be removed in a future version. To read from a literal string, wrap it in a 'StringIO' object.\n",
      "  pd.read_html(str(tables[7]))[0]\n"
     ]
    },
    {
     "data": {
      "text/html": [
       "<div>\n",
       "<style scoped>\n",
       "    .dataframe tbody tr th:only-of-type {\n",
       "        vertical-align: middle;\n",
       "    }\n",
       "\n",
       "    .dataframe tbody tr th {\n",
       "        vertical-align: top;\n",
       "    }\n",
       "\n",
       "    .dataframe thead th {\n",
       "        text-align: right;\n",
       "    }\n",
       "</style>\n",
       "<table border=\"1\" class=\"dataframe\">\n",
       "  <thead>\n",
       "    <tr style=\"text-align: right;\">\n",
       "      <th></th>\n",
       "      <th>0</th>\n",
       "      <th>1</th>\n",
       "    </tr>\n",
       "  </thead>\n",
       "  <tbody>\n",
       "    <tr>\n",
       "      <th>0</th>\n",
       "      <td>Spins</td>\n",
       "      <td>1 12.75</td>\n",
       "    </tr>\n",
       "  </tbody>\n",
       "</table>\n",
       "</div>"
      ],
      "text/plain": [
       "       0        1\n",
       "0  Spins  1 12.75"
      ]
     },
     "execution_count": 131,
     "metadata": {},
     "output_type": "execute_result"
    }
   ],
   "source": [
    "pd.read_html(str(tables[7]))[0]"
   ]
  },
  {
   "cell_type": "code",
   "execution_count": 132,
   "metadata": {},
   "outputs": [
    {
     "name": "stderr",
     "output_type": "stream",
     "text": [
      "C:\\Users\\пользователь\\AppData\\Local\\Temp\\ipykernel_10668\\2548042947.py:1: FutureWarning: Passing literal html to 'read_html' is deprecated and will be removed in a future version. To read from a literal string, wrap it in a 'StringIO' object.\n",
      "  pd.read_html(str(tables[8]))[0]\n"
     ]
    },
    {
     "data": {
      "text/html": [
       "<div>\n",
       "<style scoped>\n",
       "    .dataframe tbody tr th:only-of-type {\n",
       "        vertical-align: middle;\n",
       "    }\n",
       "\n",
       "    .dataframe tbody tr th {\n",
       "        vertical-align: top;\n",
       "    }\n",
       "\n",
       "    .dataframe thead th {\n",
       "        text-align: right;\n",
       "    }\n",
       "</style>\n",
       "<table border=\"1\" class=\"dataframe\">\n",
       "  <thead>\n",
       "    <tr style=\"text-align: right;\">\n",
       "      <th></th>\n",
       "      <th>0</th>\n",
       "      <th>1</th>\n",
       "    </tr>\n",
       "  </thead>\n",
       "  <tbody>\n",
       "    <tr>\n",
       "      <th>0</th>\n",
       "      <td>TES</td>\n",
       "      <td>SB 1  40.80</td>\n",
       "    </tr>\n",
       "  </tbody>\n",
       "</table>\n",
       "</div>"
      ],
      "text/plain": [
       "     0            1\n",
       "0  TES  SB 1  40.80"
      ]
     },
     "execution_count": 132,
     "metadata": {},
     "output_type": "execute_result"
    }
   ],
   "source": [
    "pd.read_html(str(tables[8]))[0]"
   ]
  },
  {
   "cell_type": "code",
   "execution_count": null,
   "metadata": {},
   "outputs": [],
   "source": [
    "# Элементы подробно\n",
    "\n",
    "# ## Третья - оценки за элементы по технике\n",
    "# df_3 = pd.read_html(str(tables[2]))[0]\n",
    "\n",
    "# pd.read_html(str(tables[9]))[0]"
   ]
  },
  {
   "cell_type": "code",
   "execution_count": null,
   "metadata": {},
   "outputs": [],
   "source": []
  },
  {
   "cell_type": "code",
   "execution_count": null,
   "metadata": {},
   "outputs": [
    {
     "name": "stderr",
     "output_type": "stream",
     "text": [
      "C:\\Users\\пользователь\\AppData\\Local\\Temp\\ipykernel_10668\\717955009.py:1: FutureWarning: Passing literal html to 'read_html' is deprecated and will be removed in a future version. To read from a literal string, wrap it in a 'StringIO' object.\n",
      "  pd.read_html(str(tables[10]))[0]\n"
     ]
    },
    {
     "data": {
      "text/html": [
       "<div>\n",
       "<style scoped>\n",
       "    .dataframe tbody tr th:only-of-type {\n",
       "        vertical-align: middle;\n",
       "    }\n",
       "\n",
       "    .dataframe tbody tr th {\n",
       "        vertical-align: top;\n",
       "    }\n",
       "\n",
       "    .dataframe thead th {\n",
       "        text-align: right;\n",
       "    }\n",
       "</style>\n",
       "<table border=\"1\" class=\"dataframe\">\n",
       "  <thead>\n",
       "    <tr style=\"text-align: right;\">\n",
       "      <th></th>\n",
       "      <th>0</th>\n",
       "      <th>1</th>\n",
       "      <th>2</th>\n",
       "      <th>3</th>\n",
       "      <th>4</th>\n",
       "      <th>5</th>\n",
       "      <th>6</th>\n",
       "      <th>7</th>\n",
       "      <th>8</th>\n",
       "      <th>9</th>\n",
       "      <th>10</th>\n",
       "      <th>11</th>\n",
       "      <th>12</th>\n",
       "      <th>13</th>\n",
       "      <th>14</th>\n",
       "      <th>15</th>\n",
       "    </tr>\n",
       "  </thead>\n",
       "  <tbody>\n",
       "    <tr>\n",
       "      <th>0</th>\n",
       "      <td>Program Component Score (factored)</td>\n",
       "      <td>Program Component Score (factored)</td>\n",
       "      <td>Program Component Score (factored)</td>\n",
       "      <td>Program Component Score (factored)</td>\n",
       "      <td>Program Component Score (factored)</td>\n",
       "      <td>Program Component Score (factored)</td>\n",
       "      <td>Program Component Score (factored)</td>\n",
       "      <td>Program Component Score (factored)</td>\n",
       "      <td>Program Component Score (factored)</td>\n",
       "      <td>Program Component Score (factored)</td>\n",
       "      <td>Program Component Score (factored)</td>\n",
       "      <td>Program Component Score (factored)</td>\n",
       "      <td>Program Component Score (factored)</td>\n",
       "      <td>Program Component Score (factored)</td>\n",
       "      <td>Program Component Score (factored)</td>\n",
       "      <td>PB 4 33.78</td>\n",
       "    </tr>\n",
       "  </tbody>\n",
       "</table>\n",
       "</div>"
      ],
      "text/plain": [
       "                                   0                                   1   \\\n",
       "0  Program Component Score (factored)  Program Component Score (factored)   \n",
       "\n",
       "                                   2                                   3   \\\n",
       "0  Program Component Score (factored)  Program Component Score (factored)   \n",
       "\n",
       "                                   4                                   5   \\\n",
       "0  Program Component Score (factored)  Program Component Score (factored)   \n",
       "\n",
       "                                   6                                   7   \\\n",
       "0  Program Component Score (factored)  Program Component Score (factored)   \n",
       "\n",
       "                                   8                                   9   \\\n",
       "0  Program Component Score (factored)  Program Component Score (factored)   \n",
       "\n",
       "                                   10                                  11  \\\n",
       "0  Program Component Score (factored)  Program Component Score (factored)   \n",
       "\n",
       "                                   12                                  13  \\\n",
       "0  Program Component Score (factored)  Program Component Score (factored)   \n",
       "\n",
       "                                   14          15  \n",
       "0  Program Component Score (factored)  PB 4 33.78  "
      ]
     },
     "execution_count": 134,
     "metadata": {},
     "output_type": "execute_result"
    }
   ],
   "source": []
  },
  {
   "cell_type": "code",
   "execution_count": null,
   "metadata": {},
   "outputs": [],
   "source": []
  },
  {
   "cell_type": "code",
   "execution_count": null,
   "metadata": {},
   "outputs": [],
   "source": []
  },
  {
   "cell_type": "code",
   "execution_count": null,
   "metadata": {},
   "outputs": [],
   "source": []
  },
  {
   "cell_type": "code",
   "execution_count": null,
   "metadata": {},
   "outputs": [],
   "source": []
  },
  {
   "cell_type": "code",
   "execution_count": null,
   "metadata": {},
   "outputs": [],
   "source": []
  },
  {
   "cell_type": "code",
   "execution_count": null,
   "metadata": {},
   "outputs": [],
   "source": []
  },
  {
   "cell_type": "code",
   "execution_count": null,
   "metadata": {},
   "outputs": [],
   "source": []
  }
 ],
 "metadata": {
  "kernelspec": {
   "display_name": "Python 3",
   "language": "python",
   "name": "python3"
  },
  "language_info": {
   "codemirror_mode": {
    "name": "ipython",
    "version": 3
   },
   "file_extension": ".py",
   "mimetype": "text/x-python",
   "name": "python",
   "nbconvert_exporter": "python",
   "pygments_lexer": "ipython3",
   "version": "3.9.7"
  }
 },
 "nbformat": 4,
 "nbformat_minor": 2
}
